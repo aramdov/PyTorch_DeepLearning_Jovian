{
 "cells": [
  {
   "cell_type": "markdown",
   "metadata": {
    "_cell_guid": "b1076dfc-b9ad-4769-8c92-a6c4dae69d19",
    "_uuid": "8f2839f25d086af736a60e9eeb907d3b93b6e0e5"
   },
   "source": [
    "# Insurance cost prediction using linear regression\n",
    "\n",
    "In this assignment we're going to use information like a person's age, sex, BMI, no. of children and smoking habit to predict the price of yearly medical bills. This kind of model is useful for insurance companies to determine the yearly insurance premium for a person. The dataset for this problem is taken from: https://www.kaggle.com/mirichoi0218/insurance\n",
    "\n",
    "\n",
    "We will create a model with the following steps:\n",
    "1. Download and explore the dataset\n",
    "2. Prepare the dataset for training\n",
    "3. Create a linear regression model\n",
    "4. Train the model to fit the data\n",
    "5. Make predictions using the trained model\n",
    "\n",
    "\n",
    "This assignment builds upon the concepts from the first 2 lectures. It will help to review these Jupyter notebooks:\n",
    "- PyTorch basics: https://jovian.ml/aakashns/01-pytorch-basics\n",
    "- Linear Regression: https://jovian.ml/aakashns/02-linear-regression\n",
    "- Logistic Regression: https://jovian.ml/aakashns/03-logistic-regression\n",
    "- Linear regression (minimal): https://jovian.ml/aakashns/housing-linear-minimal\n",
    "- Logistic regression (minimal): https://jovian.ml/aakashns/mnist-logistic-minimal\n",
    "\n",
    "As you go through this notebook, you will find a **???** in certain places. Your job is to replace the **???** with appropriate code or values, to ensure that the notebook runs properly end-to-end . In some cases, you'll be required to choose some hyperparameters (learning rate, batch size etc.). Try to experiment with the hypeparameters to get the lowest loss.\n"
   ]
  },
  {
   "cell_type": "code",
   "execution_count": 28,
   "metadata": {},
   "outputs": [
    {
     "name": "stdout",
     "output_type": "stream",
     "text": [
      "\u001b[33mWARNING: You are using pip version 20.1; however, version 20.1.1 is available.\r\n",
      "You should consider upgrading via the '/opt/conda/bin/python3.7 -m pip install --upgrade pip' command.\u001b[0m\r\n"
     ]
    }
   ],
   "source": [
    "# Uncomment and run the commands below if imports fail\n",
    "# !conda install numpy pytorch torchvision cpuonly -c pytorch -y\n",
    "# !pip install matplotlib --upgrade --quiet\n",
    "!pip install jovian --upgrade --quiet"
   ]
  },
  {
   "cell_type": "code",
   "execution_count": 2,
   "metadata": {},
   "outputs": [
    {
     "data": {
      "application/javascript": [
       "if (window.IPython && IPython.notebook.kernel) IPython.notebook.kernel.execute('jovian.utils.jupyter.get_notebook_name_saved = lambda: \"' + IPython.notebook.notebook_name + '\"')"
      ],
      "text/plain": [
       "<IPython.core.display.Javascript object>"
      ]
     },
     "metadata": {},
     "output_type": "display_data"
    }
   ],
   "source": [
    "import torch\n",
    "import jovian\n",
    "import torchvision\n",
    "import torch.nn as nn\n",
    "import pandas as pd\n",
    "import matplotlib.pyplot as plt\n",
    "import torch.nn.functional as F\n",
    "from torchvision.datasets.utils import download_url\n",
    "from torch.utils.data import DataLoader, TensorDataset, random_split"
   ]
  },
  {
   "cell_type": "code",
   "execution_count": 30,
   "metadata": {},
   "outputs": [],
   "source": [
    "project_name='02-insurance-linear-regression' # will be used by jovian.commit"
   ]
  },
  {
   "cell_type": "markdown",
   "metadata": {},
   "source": [
    "## Step 1: Download and explore the data\n",
    "\n",
    "Let us begin by downloading the data. We'll use the `download_url` function from PyTorch to get the data as a CSV (comma-separated values) file. "
   ]
  },
  {
   "cell_type": "code",
   "execution_count": 3,
   "metadata": {
    "_cell_guid": "79c7e3d0-c299-4dcb-8224-4455121ee9b0",
    "_uuid": "d629ff2d2480ee46fbb7e2d37f6b5fab8052498a"
   },
   "outputs": [
    {
     "name": "stdout",
     "output_type": "stream",
     "text": [
      "Downloading https://hub.jovian.ml/wp-content/uploads/2020/05/insurance.csv to ./insurance.csv\n"
     ]
    },
    {
     "data": {
      "application/vnd.jupyter.widget-view+json": {
       "model_id": "aab2752e3899494da04e3189ef3da35c",
       "version_major": 2,
       "version_minor": 0
      },
      "text/plain": [
       "HBox(children=(FloatProgress(value=1.0, bar_style='info', max=1.0), HTML(value='')))"
      ]
     },
     "metadata": {},
     "output_type": "display_data"
    }
   ],
   "source": [
    "DATASET_URL = \"https://hub.jovian.ml/wp-content/uploads/2020/05/insurance.csv\"\n",
    "DATA_FILENAME = \"insurance.csv\"\n",
    "download_url(DATASET_URL, '.')"
   ]
  },
  {
   "cell_type": "markdown",
   "metadata": {},
   "source": [
    "To load the dataset into memory, we'll use the `read_csv` function from the `pandas` library. The data will be loaded as a Pandas dataframe. See this short tutorial to learn more: https://data36.com/pandas-tutorial-1-basics-reading-data-files-dataframes-data-selection/"
   ]
  },
  {
   "cell_type": "code",
   "execution_count": 4,
   "metadata": {},
   "outputs": [
    {
     "data": {
      "text/html": [
       "<div>\n",
       "<style scoped>\n",
       "    .dataframe tbody tr th:only-of-type {\n",
       "        vertical-align: middle;\n",
       "    }\n",
       "\n",
       "    .dataframe tbody tr th {\n",
       "        vertical-align: top;\n",
       "    }\n",
       "\n",
       "    .dataframe thead th {\n",
       "        text-align: right;\n",
       "    }\n",
       "</style>\n",
       "<table border=\"1\" class=\"dataframe\">\n",
       "  <thead>\n",
       "    <tr style=\"text-align: right;\">\n",
       "      <th></th>\n",
       "      <th>age</th>\n",
       "      <th>sex</th>\n",
       "      <th>bmi</th>\n",
       "      <th>children</th>\n",
       "      <th>smoker</th>\n",
       "      <th>region</th>\n",
       "      <th>charges</th>\n",
       "    </tr>\n",
       "  </thead>\n",
       "  <tbody>\n",
       "    <tr>\n",
       "      <th>0</th>\n",
       "      <td>19</td>\n",
       "      <td>female</td>\n",
       "      <td>27.900</td>\n",
       "      <td>0</td>\n",
       "      <td>yes</td>\n",
       "      <td>southwest</td>\n",
       "      <td>16884.92400</td>\n",
       "    </tr>\n",
       "    <tr>\n",
       "      <th>1</th>\n",
       "      <td>18</td>\n",
       "      <td>male</td>\n",
       "      <td>33.770</td>\n",
       "      <td>1</td>\n",
       "      <td>no</td>\n",
       "      <td>southeast</td>\n",
       "      <td>1725.55230</td>\n",
       "    </tr>\n",
       "    <tr>\n",
       "      <th>2</th>\n",
       "      <td>28</td>\n",
       "      <td>male</td>\n",
       "      <td>33.000</td>\n",
       "      <td>3</td>\n",
       "      <td>no</td>\n",
       "      <td>southeast</td>\n",
       "      <td>4449.46200</td>\n",
       "    </tr>\n",
       "    <tr>\n",
       "      <th>3</th>\n",
       "      <td>33</td>\n",
       "      <td>male</td>\n",
       "      <td>22.705</td>\n",
       "      <td>0</td>\n",
       "      <td>no</td>\n",
       "      <td>northwest</td>\n",
       "      <td>21984.47061</td>\n",
       "    </tr>\n",
       "    <tr>\n",
       "      <th>4</th>\n",
       "      <td>32</td>\n",
       "      <td>male</td>\n",
       "      <td>28.880</td>\n",
       "      <td>0</td>\n",
       "      <td>no</td>\n",
       "      <td>northwest</td>\n",
       "      <td>3866.85520</td>\n",
       "    </tr>\n",
       "  </tbody>\n",
       "</table>\n",
       "</div>"
      ],
      "text/plain": [
       "   age     sex     bmi  children smoker     region      charges\n",
       "0   19  female  27.900         0    yes  southwest  16884.92400\n",
       "1   18    male  33.770         1     no  southeast   1725.55230\n",
       "2   28    male  33.000         3     no  southeast   4449.46200\n",
       "3   33    male  22.705         0     no  northwest  21984.47061\n",
       "4   32    male  28.880         0     no  northwest   3866.85520"
      ]
     },
     "execution_count": 4,
     "metadata": {},
     "output_type": "execute_result"
    }
   ],
   "source": [
    "dataframe_raw = pd.read_csv(DATA_FILENAME)\n",
    "dataframe_raw.head()"
   ]
  },
  {
   "cell_type": "markdown",
   "metadata": {},
   "source": [
    "We're going to do a slight customization of the data, so that you every participant receives a slightly different version of the dataset. Fill in your name below as a string (enter at least 5 characters)"
   ]
  },
  {
   "cell_type": "code",
   "execution_count": 5,
   "metadata": {},
   "outputs": [],
   "source": [
    "your_name = \"Aram\" # at least 5 characters"
   ]
  },
  {
   "cell_type": "markdown",
   "metadata": {},
   "source": [
    "The `customize_dataset` function will customize the dataset slightly using your name as a source of random numbers."
   ]
  },
  {
   "cell_type": "code",
   "execution_count": 8,
   "metadata": {},
   "outputs": [],
   "source": [
    "def customize_dataset(dataframe_raw, rand_str):\n",
    "    dataframe = dataframe_raw.copy(deep=True)\n",
    "    # drop some rows\n",
    "    dataframe = dataframe.sample(int(0.95*len(dataframe)), random_state=int(ord(rand_str[0])))\n",
    "    # scale input\n",
    "    dataframe.bmi = dataframe.bmi * ord(rand_str[1])/100.\n",
    "    # scale target\n",
    "    dataframe.charges = dataframe.charges * ord(rand_str[2])/100.\n",
    "    # drop column\n",
    "    if ord(rand_str[3]) % 2 == 1:\n",
    "        dataframe = dataframe.drop(['region'], axis=1)\n",
    "    return dataframe"
   ]
  },
  {
   "cell_type": "code",
   "execution_count": 9,
   "metadata": {},
   "outputs": [
    {
     "data": {
      "text/html": [
       "<div>\n",
       "<style scoped>\n",
       "    .dataframe tbody tr th:only-of-type {\n",
       "        vertical-align: middle;\n",
       "    }\n",
       "\n",
       "    .dataframe tbody tr th {\n",
       "        vertical-align: top;\n",
       "    }\n",
       "\n",
       "    .dataframe thead th {\n",
       "        text-align: right;\n",
       "    }\n",
       "</style>\n",
       "<table border=\"1\" class=\"dataframe\">\n",
       "  <thead>\n",
       "    <tr style=\"text-align: right;\">\n",
       "      <th></th>\n",
       "      <th>age</th>\n",
       "      <th>sex</th>\n",
       "      <th>bmi</th>\n",
       "      <th>children</th>\n",
       "      <th>smoker</th>\n",
       "      <th>charges</th>\n",
       "    </tr>\n",
       "  </thead>\n",
       "  <tbody>\n",
       "    <tr>\n",
       "      <th>27</th>\n",
       "      <td>55</td>\n",
       "      <td>female</td>\n",
       "      <td>37.3635</td>\n",
       "      <td>2</td>\n",
       "      <td>no</td>\n",
       "      <td>11900.573282</td>\n",
       "    </tr>\n",
       "    <tr>\n",
       "      <th>752</th>\n",
       "      <td>64</td>\n",
       "      <td>male</td>\n",
       "      <td>43.2117</td>\n",
       "      <td>0</td>\n",
       "      <td>no</td>\n",
       "      <td>13784.219871</td>\n",
       "    </tr>\n",
       "    <tr>\n",
       "      <th>1258</th>\n",
       "      <td>55</td>\n",
       "      <td>male</td>\n",
       "      <td>42.9951</td>\n",
       "      <td>3</td>\n",
       "      <td>no</td>\n",
       "      <td>29161.673134</td>\n",
       "    </tr>\n",
       "    <tr>\n",
       "      <th>384</th>\n",
       "      <td>44</td>\n",
       "      <td>male</td>\n",
       "      <td>25.2339</td>\n",
       "      <td>2</td>\n",
       "      <td>no</td>\n",
       "      <td>8053.459580</td>\n",
       "    </tr>\n",
       "    <tr>\n",
       "      <th>406</th>\n",
       "      <td>33</td>\n",
       "      <td>female</td>\n",
       "      <td>27.7134</td>\n",
       "      <td>0</td>\n",
       "      <td>no</td>\n",
       "      <td>4059.544963</td>\n",
       "    </tr>\n",
       "  </tbody>\n",
       "</table>\n",
       "</div>"
      ],
      "text/plain": [
       "      age     sex      bmi  children smoker       charges\n",
       "27     55  female  37.3635         2     no  11900.573282\n",
       "752    64    male  43.2117         0     no  13784.219871\n",
       "1258   55    male  42.9951         3     no  29161.673134\n",
       "384    44    male  25.2339         2     no   8053.459580\n",
       "406    33  female  27.7134         0     no   4059.544963"
      ]
     },
     "execution_count": 9,
     "metadata": {},
     "output_type": "execute_result"
    }
   ],
   "source": [
    "dataframe = customize_dataset(dataframe_raw, your_name)\n",
    "dataframe.head()"
   ]
  },
  {
   "cell_type": "markdown",
   "metadata": {},
   "source": [
    "Let us answer some basic questions about the dataset. \n",
    "\n",
    "\n",
    "**Q: How many rows does the dataset have?**"
   ]
  },
  {
   "cell_type": "code",
   "execution_count": 10,
   "metadata": {},
   "outputs": [
    {
     "name": "stdout",
     "output_type": "stream",
     "text": [
      "1271\n"
     ]
    }
   ],
   "source": [
    "num_rows = len(dataframe)\n",
    "print(num_rows)"
   ]
  },
  {
   "cell_type": "markdown",
   "metadata": {},
   "source": [
    "**Q: How many columns doe the dataset have**"
   ]
  },
  {
   "cell_type": "code",
   "execution_count": 11,
   "metadata": {},
   "outputs": [
    {
     "name": "stdout",
     "output_type": "stream",
     "text": [
      "6\n"
     ]
    }
   ],
   "source": [
    "num_cols = len(dataframe.columns) \n",
    "print(num_cols)"
   ]
  },
  {
   "cell_type": "markdown",
   "metadata": {},
   "source": [
    "**Q: What are the column titles of the input variables?**"
   ]
  },
  {
   "cell_type": "code",
   "execution_count": 12,
   "metadata": {},
   "outputs": [
    {
     "name": "stdout",
     "output_type": "stream",
     "text": [
      "Index(['age', 'sex', 'bmi', 'children', 'smoker', 'charges'], dtype='object')\n"
     ]
    }
   ],
   "source": [
    "input_cols = dataframe.columns\n",
    "print(input_cols)"
   ]
  },
  {
   "cell_type": "markdown",
   "metadata": {},
   "source": [
    "**Q: Which of the input columns are non-numeric or categorial variables ?**\n",
    "\n",
    "Hint: `sex` is one of them. List the columns that are not numbers."
   ]
  },
  {
   "cell_type": "code",
   "execution_count": 13,
   "metadata": {},
   "outputs": [
    {
     "name": "stdout",
     "output_type": "stream",
     "text": [
      "Index(['sex', 'smoker'], dtype='object')\n"
     ]
    }
   ],
   "source": [
    "categorical_cols = dataframe.select_dtypes(exclude='number') # subset dataframe which includes rows & columns but exclude all numerical columns\n",
    "categorical_cols = categorical_cols.columns # only select columns from the subset to create a list and print it\n",
    "print(categorical_cols)"
   ]
  },
  {
   "cell_type": "markdown",
   "metadata": {},
   "source": [
    "**Q: What are the column titles of output/target variable(s)?**"
   ]
  },
  {
   "cell_type": "code",
   "execution_count": 14,
   "metadata": {},
   "outputs": [
    {
     "name": "stdout",
     "output_type": "stream",
     "text": [
      "Index(['charges'], dtype='object')\n"
     ]
    }
   ],
   "source": [
    "output_cols = dataframe.filter(regex='charges')\n",
    "output_cols = output_cols.columns\n",
    "print(output_cols)"
   ]
  },
  {
   "cell_type": "markdown",
   "metadata": {},
   "source": [
    "**Q: (Optional) What is the minimum, maximum and average value of the `charges` column? Can you show the distribution of values in a graph?**\n",
    "Use this data visualization cheatsheet for referece: https://jovian.ml/aakashns/dataviz-cheatsheet"
   ]
  },
  {
   "cell_type": "code",
   "execution_count": 15,
   "metadata": {},
   "outputs": [
    {
     "data": {
      "image/png": "[encoded data removed]",
      "text/plain": [
       "<Figure size 432x288 with 1 Axes>"
      ]
     },
     "metadata": {
      "needs_background": "light"
     },
     "output_type": "display_data"
    }
   ],
   "source": [
    "output_col = dataframe.filter(regex='charges')\n",
    "output_col.describe()\n",
    "from math import sqrt\n",
    "\n",
    "ybin = round(sqrt(len(output_col)))\n",
    "\n",
    "\n",
    "_ = output_col.hist(bins=ybin)"
   ]
  },
  {
   "cell_type": "markdown",
   "metadata": {},
   "source": [
    "Remember to commit your notebook to Jovian after every step, so that you don't lose your work."
   ]
  },
  {
   "cell_type": "code",
   "execution_count": null,
   "metadata": {},
   "outputs": [],
   "source": [
    "jovian.commit(project=project_name, environment=None)"
   ]
  },
  {
   "cell_type": "markdown",
   "metadata": {},
   "source": [
    "## Step 2: Prepare the dataset for training\n",
    "\n",
    "We need to convert the data from the Pandas dataframe into a PyTorch tensors for training. To do this, the first step is to convert it numpy arrays. If you've filled out `input_cols`, `categorial_cols` and `output_cols` correctly, this following function will perform the conversion to numpy arrays."
   ]
  },
  {
   "cell_type": "code",
   "execution_count": 16,
   "metadata": {},
   "outputs": [],
   "source": [
    "def dataframe_to_arrays(dataframe):\n",
    "    # Make a copy of the original dataframe\n",
    "    dataframe1 = dataframe.copy(deep=True)\n",
    "    # Convert non-numeric categorical columns to numbers\n",
    "    for col in categorical_cols:\n",
    "        dataframe1[col] = dataframe1[col].astype('category').cat.codes\n",
    "    # Extract input & outupts as numpy arrays\n",
    "    inputs_array = dataframe1[input_cols].to_numpy()\n",
    "    targets_array = dataframe1[output_cols].to_numpy()\n",
    "    return inputs_array, targets_array"
   ]
  },
  {
   "cell_type": "markdown",
   "metadata": {},
   "source": [
    "Read through the [Pandas documentation](https://pandas.pydata.org/pandas-docs/stable/user_guide/categorical.html) to understand how we're converting categorical variables into numbers."
   ]
  },
  {
   "cell_type": "code",
   "execution_count": 17,
   "metadata": {},
   "outputs": [
    {
     "data": {
      "text/plain": [
       "(array([[5.50000000e+01, 0.00000000e+00, 3.73635000e+01, 2.00000000e+00,\n",
       "         0.00000000e+00, 1.19005733e+04],\n",
       "        [6.40000000e+01, 1.00000000e+00, 4.32117000e+01, 0.00000000e+00,\n",
       "         0.00000000e+00, 1.37842199e+04],\n",
       "        [5.50000000e+01, 1.00000000e+00, 4.29951000e+01, 3.00000000e+00,\n",
       "         0.00000000e+00, 2.91616731e+04],\n",
       "        ...,\n",
       "        [5.60000000e+01, 1.00000000e+00, 2.95659000e+01, 0.00000000e+00,\n",
       "         0.00000000e+00, 1.08304551e+04],\n",
       "        [1.80000000e+01, 0.00000000e+00, 3.45477000e+01, 0.00000000e+00,\n",
       "         0.00000000e+00, 2.13762387e+03],\n",
       "        [4.30000000e+01, 1.00000000e+00, 2.96742000e+01, 0.00000000e+00,\n",
       "         0.00000000e+00, 6.63224764e+03]]),\n",
       " array([[11900.5732825],\n",
       "        [13784.2198715],\n",
       "        [29161.6731335],\n",
       "        ...,\n",
       "        [10830.4551205],\n",
       "        [ 2137.6238715],\n",
       "        [ 6632.247639 ]]))"
      ]
     },
     "execution_count": 17,
     "metadata": {},
     "output_type": "execute_result"
    }
   ],
   "source": [
    "inputs_array, targets_array = dataframe_to_arrays(dataframe)\n",
    "inputs_array, targets_array"
   ]
  },
  {
   "cell_type": "markdown",
   "metadata": {},
   "source": [
    "**Q: Convert the numpy arrays `inputs_array` and `targets_array` into PyTorch tensors. Make sure that the data type is `torch.float32`.**"
   ]
  },
  {
   "cell_type": "code",
   "execution_count": 79,
   "metadata": {},
   "outputs": [],
   "source": [
    "inputs = torch.tensor(inputs_array, dtype=torch.float32)\n",
    "targets = torch.tensor(targets_array, dtype=torch.float32)"
   ]
  },
  {
   "cell_type": "code",
   "execution_count": 80,
   "metadata": {},
   "outputs": [
    {
     "data": {
      "text/plain": [
       "(torch.float32, torch.float32)"
      ]
     },
     "execution_count": 80,
     "metadata": {},
     "output_type": "execute_result"
    }
   ],
   "source": [
    "inputs.dtype, targets.dtype"
   ]
  },
  {
   "cell_type": "markdown",
   "metadata": {},
   "source": [
    "Next, we need to create PyTorch datasets & data loaders for training & validation. We'll start by creating a `TensorDataset`."
   ]
  },
  {
   "cell_type": "code",
   "execution_count": 81,
   "metadata": {},
   "outputs": [],
   "source": [
    "dataset = TensorDataset(inputs, targets)"
   ]
  },
  {
   "cell_type": "markdown",
   "metadata": {},
   "source": [
    "**Q: Pick a number between `0.1` and `0.2` to determine the fraction of data that will be used for creating the validation set. Then use `random_split` to create training & validation datasets. **"
   ]
  },
  {
   "cell_type": "code",
   "execution_count": 118,
   "metadata": {},
   "outputs": [],
   "source": [
    "val_percent = 0.16 # between 0.1 and 0.2\n",
    "val_size = int(num_rows * val_percent)\n",
    "train_size = num_rows - val_size\n",
    "\n",
    "\n",
    "train_ds, val_ds = random_split(dataset, [train_size, val_size]) # Use the random_split function to split dataset into 2 parts of the desired length"
   ]
  },
  {
   "cell_type": "markdown",
   "metadata": {},
   "source": [
    "Finally, we can create data loaders for training & validation.\n",
    "\n",
    "**Q: Pick a batch size for the data loader.**"
   ]
  },
  {
   "cell_type": "code",
   "execution_count": 148,
   "metadata": {},
   "outputs": [],
   "source": [
    "batch_size = 180\n",
    "batch_size2 = 128\n",
    "batch_size3 = 256"
   ]
  },
  {
   "cell_type": "code",
   "execution_count": 149,
   "metadata": {},
   "outputs": [],
   "source": [
    "train_loader = DataLoader(train_ds, batch_size, shuffle=True)\n",
    "val_loader = DataLoader(val_ds, batch_size)"
   ]
  },
  {
   "cell_type": "markdown",
   "metadata": {},
   "source": [
    "Let's look at a batch of data to verify everything is working fine so far."
   ]
  },
  {
   "cell_type": "code",
   "execution_count": 150,
   "metadata": {},
   "outputs": [
    {
     "name": "stdout",
     "output_type": "stream",
     "text": [
      "inputs: tensor([[2.4000e+01, 0.0000e+00, 3.4439e+01, 3.0000e+00, 0.0000e+00, 4.4795e+03],\n",
      "        [4.2000e+01, 0.0000e+00, 3.3607e+01, 2.0000e+00, 0.0000e+00, 7.4111e+03],\n",
      "        [4.3000e+01, 1.0000e+00, 2.9093e+01, 5.0000e+00, 0.0000e+00, 1.4044e+04],\n",
      "        ...,\n",
      "        [6.0000e+01, 0.0000e+00, 2.0902e+01, 0.0000e+00, 0.0000e+00, 1.2808e+04],\n",
      "        [5.7000e+01, 1.0000e+00, 3.1852e+01, 1.0000e+00, 0.0000e+00, 1.1208e+04],\n",
      "        [5.0000e+01, 0.0000e+00, 3.6024e+01, 2.0000e+00, 0.0000e+00, 9.8149e+03]])\n",
      "targets: tensor([[ 4479.5376],\n",
      "        [ 7411.1001],\n",
      "        [14043.9805],\n",
      "        [11627.5527],\n",
      "        [ 1673.7858],\n",
      "        [ 9456.4434],\n",
      "        [12147.8965],\n",
      "        [12827.3350],\n",
      "        [ 4307.9766],\n",
      "        [18930.0762],\n",
      "        [40425.7969],\n",
      "        [ 2781.1060],\n",
      "        [19849.1074],\n",
      "        [ 6839.1226],\n",
      "        [10284.3135],\n",
      "        [18394.2773],\n",
      "        [ 2649.9548],\n",
      "        [ 9579.4102],\n",
      "        [26190.9551],\n",
      "        [36152.0469],\n",
      "        [10630.5498],\n",
      "        [ 7746.2407],\n",
      "        [ 1819.0837],\n",
      "        [11586.7783],\n",
      "        [ 9484.9971],\n",
      "        [42271.5703],\n",
      "        [ 5790.6313],\n",
      "        [61857.3164],\n",
      "        [ 1782.1635],\n",
      "        [10483.2617],\n",
      "        [ 3377.4119],\n",
      "        [11733.7520],\n",
      "        [ 2150.9451],\n",
      "        [12264.0762],\n",
      "        [ 4393.5928],\n",
      "        [ 9263.0781],\n",
      "        [ 1677.0300],\n",
      "        [11377.7891],\n",
      "        [29352.1953],\n",
      "        [13562.3945],\n",
      "        [13026.1641],\n",
      "        [ 3853.7371],\n",
      "        [13226.5684],\n",
      "        [13502.2285],\n",
      "        [ 6452.9531],\n",
      "        [ 4300.3862],\n",
      "        [45872.3242],\n",
      "        [11482.0449],\n",
      "        [ 1114.9141],\n",
      "        [ 9924.5547],\n",
      "        [ 4424.3530],\n",
      "        [12951.5371],\n",
      "        [18781.1387],\n",
      "        [22861.2246],\n",
      "        [13884.4307],\n",
      "        [30671.4004],\n",
      "        [39498.9336],\n",
      "        [ 1667.8533],\n",
      "        [ 9567.5674],\n",
      "        [21324.9355],\n",
      "        [20708.2441],\n",
      "        [17097.4531],\n",
      "        [11410.1113],\n",
      "        [ 5416.7764],\n",
      "        [ 3643.9229],\n",
      "        [11308.6279],\n",
      "        [22607.3516],\n",
      "        [ 5313.6958],\n",
      "        [24550.2051],\n",
      "        [18050.0137],\n",
      "        [11475.6895],\n",
      "        [ 5671.5103],\n",
      "        [10482.6338],\n",
      "        [45482.5820],\n",
      "        [10259.7744],\n",
      "        [11897.5420],\n",
      "        [37356.2812],\n",
      "        [15745.8613],\n",
      "        [ 1966.1649],\n",
      "        [ 5537.6011],\n",
      "        [ 4112.6958],\n",
      "        [ 6201.7954],\n",
      "        [ 1769.5569],\n",
      "        [ 3874.3525],\n",
      "        [12250.2910],\n",
      "        [23093.0234],\n",
      "        [45261.5977],\n",
      "        [11383.8027],\n",
      "        [26118.7188],\n",
      "        [ 6546.1333],\n",
      "        [11525.5107],\n",
      "        [20704.5020],\n",
      "        [10123.0127],\n",
      "        [31803.8340],\n",
      "        [ 5319.9331],\n",
      "        [ 4786.6641],\n",
      "        [ 1102.9006],\n",
      "        [ 9908.1973],\n",
      "        [25213.0371],\n",
      "        [21788.1816],\n",
      "        [16157.9863],\n",
      "        [45851.7578],\n",
      "        [21661.6191],\n",
      "        [ 1859.7988],\n",
      "        [10947.9424],\n",
      "        [ 2193.7217],\n",
      "        [ 2399.1340],\n",
      "        [ 4521.4478],\n",
      "        [35040.8359],\n",
      "        [19544.8438],\n",
      "        [ 6214.2183],\n",
      "        [ 4400.1714],\n",
      "        [ 5795.1533],\n",
      "        [ 2964.6965],\n",
      "        [ 4116.2822],\n",
      "        [ 3181.4724],\n",
      "        [ 5109.7837],\n",
      "        [11054.9932],\n",
      "        [ 3760.9851],\n",
      "        [33793.7070],\n",
      "        [18336.3867],\n",
      "        [12196.8271],\n",
      "        [17671.6172],\n",
      "        [ 3483.7356],\n",
      "        [ 9573.7158],\n",
      "        [ 9576.5195],\n",
      "        [ 8945.7305],\n",
      "        [ 5152.8047],\n",
      "        [17711.4395],\n",
      "        [ 2073.9285],\n",
      "        [ 6355.1978],\n",
      "        [24886.8789],\n",
      "        [ 4545.7969],\n",
      "        [ 4701.5127],\n",
      "        [11167.0332],\n",
      "        [20559.9434],\n",
      "        [46071.6016],\n",
      "        [ 1716.4457],\n",
      "        [ 2085.9548],\n",
      "        [ 5661.4248],\n",
      "        [ 7508.1270],\n",
      "        [11868.7637],\n",
      "        [29261.6191],\n",
      "        [24167.7637],\n",
      "        [11005.1533],\n",
      "        [ 5193.4526],\n",
      "        [ 4259.9023],\n",
      "        [13313.7080],\n",
      "        [37134.2656],\n",
      "        [26554.6270],\n",
      "        [ 1615.0496],\n",
      "        [32471.5430],\n",
      "        [ 9506.8613],\n",
      "        [11143.6670],\n",
      "        [19627.8086],\n",
      "        [19006.9648],\n",
      "        [10110.2295],\n",
      "        [ 1204.9922],\n",
      "        [ 3178.8462],\n",
      "        [12831.9814],\n",
      "        [ 1959.9358],\n",
      "        [11866.8135],\n",
      "        [ 8175.2271],\n",
      "        [ 7746.8809],\n",
      "        [ 3451.8616],\n",
      "        [12735.7158],\n",
      "        [ 8570.2070],\n",
      "        [ 9104.5762],\n",
      "        [ 2324.2131],\n",
      "        [ 1685.2548],\n",
      "        [ 7972.6279],\n",
      "        [ 9337.1426],\n",
      "        [22544.2305],\n",
      "        [13854.9561],\n",
      "        [46039.0078],\n",
      "        [26974.4629],\n",
      "        [ 1984.3147],\n",
      "        [12808.1572],\n",
      "        [11207.5967],\n",
      "        [ 9814.8711]])\n"
     ]
    }
   ],
   "source": [
    "for xb, yb in train_loader:\n",
    "    print(\"inputs:\", xb)\n",
    "    print(\"targets:\", yb)\n",
    "    break"
   ]
  },
  {
   "cell_type": "markdown",
   "metadata": {},
   "source": [
    "Let's save our work by committing to Jovian."
   ]
  },
  {
   "cell_type": "code",
   "execution_count": 31,
   "metadata": {},
   "outputs": [
    {
     "data": {
      "application/javascript": [
       "window.require && require([\"base/js/namespace\"],function(Jupyter){Jupyter.notebook.save_checkpoint()})"
      ],
      "text/plain": [
       "<IPython.core.display.Javascript object>"
      ]
     },
     "metadata": {},
     "output_type": "display_data"
    },
    {
     "name": "stdout",
     "output_type": "stream",
     "text": [
      "[jovian] Attempting to save notebook..\u001b[0m\n",
      "[jovian] Please enter your API key ( from https://jovian.ml/ ):\u001b[0m\n",
      "API KEY: ········\n",
      "[jovian] Updating notebook \"aramdov/02-insurance-linear-regression\" on https://jovian.ml/\u001b[0m\n",
      "[jovian] Uploading notebook..\u001b[0m\n",
      "[jovian] Committed successfully! https://jovian.ml/aramdov/02-insurance-linear-regression\u001b[0m\n"
     ]
    },
    {
     "data": {
      "text/plain": [
       "'https://jovian.ml/aramdov/02-insurance-linear-regression'"
      ]
     },
     "execution_count": 31,
     "metadata": {},
     "output_type": "execute_result"
    }
   ],
   "source": [
    "jovian.commit(project=project_name, environment=None)"
   ]
  },
  {
   "cell_type": "markdown",
   "metadata": {},
   "source": [
    "## Step 3: Create a Linear Regression Model\n",
    "\n",
    "Our model itself is a fairly straightforward linear regression (we'll build more complex models in the next assignment). \n"
   ]
  },
  {
   "cell_type": "code",
   "execution_count": 143,
   "metadata": {},
   "outputs": [],
   "source": [
    "input_size = len(input_cols)\n",
    "output_size = len(output_cols)"
   ]
  },
  {
   "cell_type": "markdown",
   "metadata": {},
   "source": [
    "**Q: Complete the class definition below by filling out the constructor (`__init__`), `forward`, `training_step` and `validation_step` methods.**\n",
    "\n",
    "Hint: Think carefully about picking a good loss fuction (it's not cross entropy). Maybe try 2-3 of them and see which one works best. See https://pytorch.org/docs/stable/nn.functional.html#loss-functions"
   ]
  },
  {
   "cell_type": "code",
   "execution_count": 133,
   "metadata": {},
   "outputs": [],
   "source": [
    "import torch.nn.functional as F"
   ]
  },
  {
   "cell_type": "code",
   "execution_count": 156,
   "metadata": {},
   "outputs": [],
   "source": [
    "class InsuranceModel(nn.Module):\n",
    "    def __init__(self):\n",
    "        super().__init__()\n",
    "        self.linear = nn.Linear(input_size, output_size)                  # fill this (hint: use input_size & output_size defined above)\n",
    "        \n",
    "    def forward(self, xb):\n",
    "        out = self.linear(xb)                          # fill this\n",
    "        return out\n",
    "    \n",
    "    def training_step(self, batch):\n",
    "        inputs, targets = batch \n",
    "        # Generate predictions\n",
    "        out = self(inputs)          \n",
    "        # Calcuate loss\n",
    "        loss = F.l1_loss(out, targets)                          # fill this\n",
    "        return loss\n",
    "    \n",
    "    def validation_step(self, batch):\n",
    "        inputs, targets = batch\n",
    "        # Generate predictions\n",
    "        out = self(inputs)\n",
    "        # Calculate loss\n",
    "        loss = F.l1_loss(out, targets)                        # fill this    \n",
    "        return {'val_loss': loss.detach()}\n",
    "        \n",
    "    def validation_epoch_end(self, outputs):\n",
    "        batch_losses = [x['val_loss'] for x in outputs]\n",
    "        epoch_loss = torch.stack(batch_losses).mean()   # Combine losses\n",
    "        return {'val_loss': epoch_loss.item()}\n",
    "    \n",
    "    def epoch_end(self, epoch, result, num_epochs):\n",
    "        # Print result every 20th epoch\n",
    "        if (epoch+1) % 20 == 0 or epoch == num_epochs-1:\n",
    "            print(\"Epoch [{}], val_loss: {:.4f}\".format(epoch+1, result['val_loss']))"
   ]
  },
  {
   "cell_type": "markdown",
   "metadata": {},
   "source": [
    "Let us create a model using the `InsuranceModel` class. You may need to come back later and re-run the next cell to reinitialize the model, in case the loss becomes `nan` or `infinity`."
   ]
  },
  {
   "cell_type": "code",
   "execution_count": 157,
   "metadata": {},
   "outputs": [],
   "source": [
    "model = InsuranceModel()"
   ]
  },
  {
   "cell_type": "markdown",
   "metadata": {},
   "source": [
    "Let's check out the weights and biases of the model using `model.parameters`."
   ]
  },
  {
   "cell_type": "code",
   "execution_count": 158,
   "metadata": {},
   "outputs": [
    {
     "data": {
      "text/plain": [
       "[Parameter containing:\n",
       " tensor([[-0.3009, -0.2360,  0.1145,  0.0450,  0.2678, -0.2789]],\n",
       "        requires_grad=True),\n",
       " Parameter containing:\n",
       " tensor([0.3124], requires_grad=True)]"
      ]
     },
     "execution_count": 158,
     "metadata": {},
     "output_type": "execute_result"
    }
   ],
   "source": [
    "list(model.parameters())"
   ]
  },
  {
   "cell_type": "markdown",
   "metadata": {},
   "source": [
    "One final commit before we train the model."
   ]
  },
  {
   "cell_type": "code",
   "execution_count": 178,
   "metadata": {},
   "outputs": [
    {
     "data": {
      "application/javascript": [
       "window.require && require([\"base/js/namespace\"],function(Jupyter){Jupyter.notebook.save_checkpoint()})"
      ],
      "text/plain": [
       "<IPython.core.display.Javascript object>"
      ]
     },
     "metadata": {},
     "output_type": "display_data"
    },
    {
     "name": "stdout",
     "output_type": "stream",
     "text": [
      "[jovian] Attempting to save notebook..\u001b[0m\n",
      "[jovian] Updating notebook \"aramdov/02-insurance-linear-regression\" on https://jovian.ml/\u001b[0m\n",
      "[jovian] Uploading notebook..\u001b[0m\n",
      "[jovian] Attaching records (metrics, hyperparameters, dataset etc.)\u001b[0m\n",
      "[jovian] Committed successfully! https://jovian.ml/aramdov/02-insurance-linear-regression\u001b[0m\n"
     ]
    },
    {
     "data": {
      "text/plain": [
       "'https://jovian.ml/aramdov/02-insurance-linear-regression'"
      ]
     },
     "execution_count": 178,
     "metadata": {},
     "output_type": "execute_result"
    }
   ],
   "source": [
    "jovian.commit(project=project_name, environment=None)"
   ]
  },
  {
   "cell_type": "markdown",
   "metadata": {},
   "source": [
    "## Step 4: Train the model to fit the data\n",
    "\n",
    "To train our model, we'll use the same `fit` function explained in the lecture. That's the benefit of defining a generic training loop - you can use it for any problem."
   ]
  },
  {
   "cell_type": "code",
   "execution_count": 159,
   "metadata": {},
   "outputs": [],
   "source": [
    "def evaluate(model, val_loader):\n",
    "    outputs = [model.validation_step(batch) for batch in val_loader]\n",
    "    return model.validation_epoch_end(outputs)\n",
    "\n",
    "def fit(epochs, lr, model, train_loader, val_loader, opt_func=torch.optim.SGD):\n",
    "    history = []\n",
    "    optimizer = opt_func(model.parameters(), lr)\n",
    "    for epoch in range(epochs):\n",
    "        # Training Phase \n",
    "        for batch in train_loader:\n",
    "            loss = model.training_step(batch)\n",
    "            loss.backward()\n",
    "            optimizer.step()\n",
    "            optimizer.zero_grad()\n",
    "        # Validation phase\n",
    "        result = evaluate(model, val_loader)\n",
    "        model.epoch_end(epoch, result, epochs)\n",
    "        history.append(result)\n",
    "    return history"
   ]
  },
  {
   "cell_type": "markdown",
   "metadata": {},
   "source": [
    "**Q: Use the `evaluate` function to calculate the loss on the validation set before training.**"
   ]
  },
  {
   "cell_type": "code",
   "execution_count": 160,
   "metadata": {},
   "outputs": [
    {
     "name": "stdout",
     "output_type": "stream",
     "text": [
      "{'val_loss': 15305.5556640625}\n"
     ]
    }
   ],
   "source": [
    "result = evaluate(model, val_loader) # Use the the evaluate function\n",
    "print(result)"
   ]
  },
  {
   "cell_type": "markdown",
   "metadata": {},
   "source": [
    "\n",
    "We are now ready to train the model. You may need to run the training loop many times, for different number of epochs and with different learning rates, to get a good result. Also, if your loss becomes too large (or `nan`), you may have to re-initialize the model by running the cell `model = InsuranceModel()`. Experiment with this for a while, and try to get to as low a loss as possible."
   ]
  },
  {
   "cell_type": "markdown",
   "metadata": {},
   "source": [
    "**Q: Train the model 4-5 times with different learning rates & for different number of epochs.**\n",
    "\n",
    "Hint: Vary learning rates by orders of 10 (e.g. `1e-2`, `1e-3`, `1e-4`, `1e-5`, `1e-6`) to figure out what works."
   ]
  },
  {
   "cell_type": "code",
   "execution_count": 161,
   "metadata": {},
   "outputs": [
    {
     "name": "stdout",
     "output_type": "stream",
     "text": [
      "Epoch [20], val_loss: 320.5980\n",
      "Epoch [40], val_loss: 6365.6436\n",
      "Epoch [60], val_loss: 13358.2676\n",
      "Epoch [80], val_loss: 7758.2998\n",
      "Epoch [100], val_loss: 5644.4463\n",
      "Epoch [120], val_loss: 12019.7363\n",
      "Epoch [140], val_loss: 2542.9023\n",
      "Epoch [160], val_loss: 6419.2354\n",
      "Epoch [180], val_loss: 1753.4802\n",
      "Epoch [200], val_loss: 13534.1875\n",
      "Epoch [220], val_loss: 9053.9736\n",
      "Epoch [240], val_loss: 6278.2798\n",
      "Epoch [260], val_loss: 11896.8242\n",
      "Epoch [280], val_loss: 8899.7051\n",
      "Epoch [300], val_loss: 9562.3418\n",
      "Epoch [320], val_loss: 14218.2363\n",
      "Epoch [340], val_loss: 8319.8457\n",
      "Epoch [360], val_loss: 7930.1128\n",
      "Epoch [380], val_loss: 97.3372\n",
      "Epoch [400], val_loss: 195.0239\n"
     ]
    }
   ],
   "source": [
    "epochs = 400\n",
    "lr = 1e-4\n",
    "history1 = fit(epochs, lr, model, train_loader, val_loader)"
   ]
  },
  {
   "cell_type": "code",
   "execution_count": 168,
   "metadata": {},
   "outputs": [
    {
     "name": "stdout",
     "output_type": "stream",
     "text": [
      "Epoch [20], val_loss: 798802.1875\n",
      "Epoch [40], val_loss: 427523.5312\n",
      "Epoch [60], val_loss: 56123.2969\n",
      "Epoch [80], val_loss: 853.1111\n",
      "Epoch [100], val_loss: 417.0011\n",
      "Epoch [120], val_loss: 1020.9456\n",
      "Epoch [140], val_loss: 1023.1693\n",
      "Epoch [160], val_loss: 1966.0359\n",
      "Epoch [180], val_loss: 2536.7222\n",
      "Epoch [200], val_loss: 579.1953\n",
      "Epoch [220], val_loss: 2166.8760\n",
      "Epoch [240], val_loss: 884.6656\n",
      "Epoch [260], val_loss: 1119.3644\n",
      "Epoch [280], val_loss: 2031.1448\n",
      "Epoch [300], val_loss: 3232.2085\n",
      "Epoch [320], val_loss: 2252.7588\n",
      "Epoch [340], val_loss: 2012.8553\n",
      "Epoch [360], val_loss: 422.3638\n",
      "Epoch [380], val_loss: 947.0171\n",
      "Epoch [400], val_loss: 775.1567\n",
      "Epoch [420], val_loss: 2469.5322\n",
      "Epoch [440], val_loss: 3043.3831\n",
      "Epoch [460], val_loss: 441.3552\n",
      "Epoch [480], val_loss: 376.9278\n",
      "Epoch [500], val_loss: 1777.7510\n",
      "Epoch [520], val_loss: 1414.2885\n",
      "Epoch [540], val_loss: 372.1669\n",
      "Epoch [560], val_loss: 2100.2568\n",
      "Epoch [580], val_loss: 3134.2158\n",
      "Epoch [600], val_loss: 2570.3667\n",
      "Epoch [620], val_loss: 1169.7816\n",
      "Epoch [640], val_loss: 642.5580\n",
      "Epoch [660], val_loss: 1814.0977\n",
      "Epoch [680], val_loss: 1697.4259\n",
      "Epoch [700], val_loss: 908.2743\n",
      "Epoch [720], val_loss: 85.2355\n",
      "Epoch [740], val_loss: 1887.3391\n",
      "Epoch [760], val_loss: 1591.2996\n",
      "Epoch [780], val_loss: 2333.7156\n",
      "Epoch [800], val_loss: 1336.7095\n",
      "Epoch [820], val_loss: 2897.3447\n",
      "Epoch [840], val_loss: 1861.8950\n",
      "Epoch [860], val_loss: 1608.4696\n",
      "Epoch [880], val_loss: 1404.1836\n",
      "Epoch [900], val_loss: 792.2775\n",
      "Epoch [920], val_loss: 2458.9265\n",
      "Epoch [940], val_loss: 3161.7197\n",
      "Epoch [960], val_loss: 1183.8766\n",
      "Epoch [980], val_loss: 1911.1880\n",
      "Epoch [1000], val_loss: 431.0201\n",
      "Epoch [1020], val_loss: 506.3093\n",
      "Epoch [1040], val_loss: 2146.0103\n",
      "Epoch [1060], val_loss: 2279.6145\n",
      "Epoch [1080], val_loss: 780.1130\n",
      "Epoch [1100], val_loss: 2275.2856\n",
      "Epoch [1120], val_loss: 2518.4326\n",
      "Epoch [1140], val_loss: 1535.9374\n",
      "Epoch [1160], val_loss: 1396.9113\n",
      "Epoch [1180], val_loss: 2170.0735\n",
      "Epoch [1200], val_loss: 2071.0776\n",
      "Epoch [1220], val_loss: 2912.1450\n",
      "Epoch [1240], val_loss: 1455.7809\n",
      "Epoch [1260], val_loss: 1243.3942\n",
      "Epoch [1280], val_loss: 2619.4873\n",
      "Epoch [1300], val_loss: 653.5457\n",
      "Epoch [1320], val_loss: 165.1774\n",
      "Epoch [1340], val_loss: 2193.7026\n",
      "Epoch [1360], val_loss: 2785.3306\n",
      "Epoch [1380], val_loss: 1887.9222\n",
      "Epoch [1400], val_loss: 844.2195\n",
      "Epoch [1420], val_loss: 1694.6648\n",
      "Epoch [1440], val_loss: 1346.8047\n",
      "Epoch [1460], val_loss: 349.2179\n",
      "Epoch [1480], val_loss: 1430.4575\n",
      "Epoch [1500], val_loss: 1121.8862\n",
      "Epoch [1520], val_loss: 1860.9421\n",
      "Epoch [1540], val_loss: 1126.4563\n",
      "Epoch [1560], val_loss: 238.9244\n",
      "Epoch [1580], val_loss: 2023.3971\n",
      "Epoch [1600], val_loss: 2666.3457\n",
      "Epoch [1620], val_loss: 1894.7034\n",
      "Epoch [1640], val_loss: 2127.5679\n",
      "Epoch [1660], val_loss: 1986.8329\n",
      "Epoch [1680], val_loss: 754.7170\n",
      "Epoch [1700], val_loss: 2032.0259\n",
      "Epoch [1720], val_loss: 606.3271\n",
      "Epoch [1740], val_loss: 1652.4592\n",
      "Epoch [1760], val_loss: 939.5910\n",
      "Epoch [1780], val_loss: 2155.2432\n",
      "Epoch [1800], val_loss: 716.7549\n",
      "Epoch [1820], val_loss: 939.6441\n",
      "Epoch [1840], val_loss: 502.0005\n",
      "Epoch [1860], val_loss: 2944.6343\n",
      "Epoch [1880], val_loss: 1665.7802\n",
      "Epoch [1900], val_loss: 247.8205\n",
      "Epoch [1920], val_loss: 67.3519\n",
      "Epoch [1940], val_loss: 928.6005\n",
      "Epoch [1960], val_loss: 2437.5225\n",
      "Epoch [1980], val_loss: 2540.8350\n",
      "Epoch [2000], val_loss: 2295.6289\n"
     ]
    }
   ],
   "source": [
    "epochs = 2000\n",
    "lr = 2*1e-5\n",
    "history2 = fit(epochs, lr, model, train_loader, val_loader)"
   ]
  },
  {
   "cell_type": "code",
   "execution_count": 164,
   "metadata": {},
   "outputs": [
    {
     "name": "stdout",
     "output_type": "stream",
     "text": [
      "Epoch [20], val_loss: 286962.6875\n",
      "Epoch [40], val_loss: 101340.9062\n",
      "Epoch [60], val_loss: 380.6201\n",
      "Epoch [80], val_loss: 685.9742\n",
      "Epoch [100], val_loss: 981.4730\n",
      "Epoch [120], val_loss: 496.3738\n",
      "Epoch [140], val_loss: 407.8446\n",
      "Epoch [160], val_loss: 576.8557\n",
      "Epoch [180], val_loss: 882.0232\n",
      "Epoch [200], val_loss: 616.8666\n",
      "Epoch [220], val_loss: 594.0290\n",
      "Epoch [240], val_loss: 841.4377\n",
      "Epoch [260], val_loss: 1090.7275\n",
      "Epoch [280], val_loss: 627.4390\n",
      "Epoch [300], val_loss: 509.0221\n",
      "Epoch [320], val_loss: 766.9419\n",
      "Epoch [340], val_loss: 881.6909\n",
      "Epoch [360], val_loss: 614.0827\n",
      "Epoch [380], val_loss: 519.0594\n",
      "Epoch [400], val_loss: 627.6581\n",
      "Epoch [420], val_loss: 610.4254\n",
      "Epoch [440], val_loss: 365.0534\n",
      "Epoch [460], val_loss: 696.0723\n",
      "Epoch [480], val_loss: 510.6846\n",
      "Epoch [500], val_loss: 895.0320\n",
      "Epoch [520], val_loss: 956.0161\n",
      "Epoch [540], val_loss: 401.7048\n",
      "Epoch [560], val_loss: 1390.5548\n",
      "Epoch [580], val_loss: 671.2772\n",
      "Epoch [600], val_loss: 842.6541\n",
      "Epoch [620], val_loss: 1323.5469\n",
      "Epoch [640], val_loss: 690.8192\n",
      "Epoch [660], val_loss: 702.2189\n",
      "Epoch [680], val_loss: 978.2134\n",
      "Epoch [700], val_loss: 805.6434\n",
      "Epoch [720], val_loss: 214.0829\n",
      "Epoch [740], val_loss: 598.3359\n",
      "Epoch [760], val_loss: 1170.6790\n",
      "Epoch [780], val_loss: 276.0984\n",
      "Epoch [800], val_loss: 495.9523\n",
      "Epoch [820], val_loss: 946.7878\n",
      "Epoch [840], val_loss: 1082.6403\n",
      "Epoch [860], val_loss: 683.4064\n",
      "Epoch [880], val_loss: 469.7192\n",
      "Epoch [900], val_loss: 766.1649\n",
      "Epoch [920], val_loss: 1139.3809\n",
      "Epoch [940], val_loss: 1119.2574\n",
      "Epoch [960], val_loss: 825.6507\n",
      "Epoch [980], val_loss: 1193.7438\n",
      "Epoch [1000], val_loss: 582.7958\n"
     ]
    }
   ],
   "source": [
    "epochs = 1000\n",
    "lr = 1e-5\n",
    "history3 = fit(epochs, lr, model, train_loader, val_loader)"
   ]
  },
  {
   "cell_type": "code",
   "execution_count": 163,
   "metadata": {},
   "outputs": [
    {
     "name": "stdout",
     "output_type": "stream",
     "text": [
      "Epoch [20], val_loss: 24474.4453\n",
      "Epoch [40], val_loss: 691464.2500\n",
      "Epoch [60], val_loss: 343763.3125\n",
      "Epoch [80], val_loss: 518020.0000\n",
      "Epoch [100], val_loss: 1523798.5000\n",
      "Epoch [120], val_loss: 1132915.5000\n",
      "Epoch [140], val_loss: 115098.6641\n",
      "Epoch [160], val_loss: 1204260.7500\n",
      "Epoch [180], val_loss: 715077.0000\n",
      "Epoch [200], val_loss: 1576194.3750\n",
      "Epoch [220], val_loss: 856648.5625\n",
      "Epoch [240], val_loss: 530911.6250\n",
      "Epoch [260], val_loss: 774391.0000\n",
      "Epoch [280], val_loss: 1454951.6250\n",
      "Epoch [300], val_loss: 1444469.1250\n",
      "Epoch [320], val_loss: 1464083.0000\n",
      "Epoch [340], val_loss: 687317.6250\n",
      "Epoch [360], val_loss: 32492.4785\n",
      "Epoch [380], val_loss: 797837.3125\n",
      "Epoch [400], val_loss: 896516.5000\n",
      "Epoch [420], val_loss: 463192.0625\n",
      "Epoch [440], val_loss: 28883.1094\n",
      "Epoch [460], val_loss: 599227.6875\n",
      "Epoch [480], val_loss: 523030.5312\n",
      "Epoch [500], val_loss: 751500.3750\n",
      "Epoch [520], val_loss: 1418878.2500\n",
      "Epoch [540], val_loss: 928938.5000\n",
      "Epoch [560], val_loss: 24867.2422\n",
      "Epoch [580], val_loss: 92674.6562\n",
      "Epoch [600], val_loss: 1284413.1250\n",
      "Epoch [620], val_loss: 704914.1250\n",
      "Epoch [640], val_loss: 916291.5000\n",
      "Epoch [660], val_loss: 519466.1875\n",
      "Epoch [680], val_loss: 1069453.3750\n",
      "Epoch [700], val_loss: 1077476.7500\n",
      "Epoch [720], val_loss: 50506.9297\n",
      "Epoch [740], val_loss: 365662.1250\n",
      "Epoch [760], val_loss: 365261.6250\n",
      "Epoch [780], val_loss: 261691.8125\n",
      "Epoch [800], val_loss: 1091173.8750\n",
      "Epoch [820], val_loss: 1619101.3750\n",
      "Epoch [840], val_loss: 608476.6250\n",
      "Epoch [860], val_loss: 92835.8203\n",
      "Epoch [880], val_loss: 749616.6250\n",
      "Epoch [900], val_loss: 1066268.7500\n",
      "Epoch [920], val_loss: 504576.6875\n",
      "Epoch [940], val_loss: 920588.5000\n",
      "Epoch [960], val_loss: 910837.5000\n",
      "Epoch [980], val_loss: 855900.5625\n",
      "Epoch [1000], val_loss: 472622.3125\n"
     ]
    }
   ],
   "source": [
    "epochs = 1000\n",
    "lr = 1e-2\n",
    "history4 = fit(epochs, lr, model, train_loader, val_loader)"
   ]
  },
  {
   "cell_type": "code",
   "execution_count": 165,
   "metadata": {},
   "outputs": [
    {
     "name": "stdout",
     "output_type": "stream",
     "text": [
      "Epoch [20], val_loss: 107.8167\n",
      "Epoch [40], val_loss: 103.0951\n",
      "Epoch [60], val_loss: 105.5430\n",
      "Epoch [80], val_loss: 104.3521\n",
      "Epoch [100], val_loss: 105.0510\n",
      "Epoch [120], val_loss: 107.3138\n",
      "Epoch [140], val_loss: 107.5078\n",
      "Epoch [160], val_loss: 101.8244\n",
      "Epoch [180], val_loss: 103.1392\n",
      "Epoch [200], val_loss: 101.3648\n",
      "Epoch [220], val_loss: 101.4639\n",
      "Epoch [240], val_loss: 107.1931\n",
      "Epoch [260], val_loss: 102.0480\n",
      "Epoch [280], val_loss: 101.1058\n",
      "Epoch [300], val_loss: 109.2191\n",
      "Epoch [320], val_loss: 101.4013\n",
      "Epoch [340], val_loss: 102.0116\n",
      "Epoch [360], val_loss: 104.8904\n",
      "Epoch [380], val_loss: 100.4995\n",
      "Epoch [400], val_loss: 102.0697\n",
      "Epoch [420], val_loss: 101.1651\n",
      "Epoch [440], val_loss: 100.1240\n",
      "Epoch [460], val_loss: 101.9903\n",
      "Epoch [480], val_loss: 105.6328\n",
      "Epoch [500], val_loss: 112.7607\n",
      "Epoch [520], val_loss: 101.8977\n",
      "Epoch [540], val_loss: 102.0505\n",
      "Epoch [560], val_loss: 101.1688\n",
      "Epoch [580], val_loss: 98.9979\n",
      "Epoch [600], val_loss: 99.9987\n",
      "Epoch [620], val_loss: 100.9644\n",
      "Epoch [640], val_loss: 103.6800\n",
      "Epoch [660], val_loss: 100.8560\n",
      "Epoch [680], val_loss: 98.6039\n",
      "Epoch [700], val_loss: 100.3398\n",
      "Epoch [720], val_loss: 99.9687\n",
      "Epoch [740], val_loss: 102.5099\n",
      "Epoch [760], val_loss: 102.8982\n",
      "Epoch [780], val_loss: 99.7761\n",
      "Epoch [800], val_loss: 97.5944\n",
      "Epoch [820], val_loss: 99.8059\n",
      "Epoch [840], val_loss: 100.6033\n",
      "Epoch [860], val_loss: 97.1259\n",
      "Epoch [880], val_loss: 97.4143\n",
      "Epoch [900], val_loss: 99.5487\n",
      "Epoch [920], val_loss: 96.7189\n",
      "Epoch [940], val_loss: 103.5613\n",
      "Epoch [960], val_loss: 99.4231\n",
      "Epoch [980], val_loss: 97.1929\n",
      "Epoch [1000], val_loss: 96.4106\n"
     ]
    }
   ],
   "source": [
    "epochs = 1000\n",
    "lr = 1e-6\n",
    "history5 = fit(epochs, lr, model, train_loader, val_loader)"
   ]
  },
  {
   "cell_type": "markdown",
   "metadata": {},
   "source": [
    "**Q: What is the final validation loss of your model?**"
   ]
  },
  {
   "cell_type": "code",
   "execution_count": 169,
   "metadata": {},
   "outputs": [],
   "source": [
    "val_loss = 96.4106"
   ]
  },
  {
   "cell_type": "markdown",
   "metadata": {},
   "source": [
    "Let's log the final validation loss to Jovian and commit the notebook"
   ]
  },
  {
   "cell_type": "code",
   "execution_count": 170,
   "metadata": {},
   "outputs": [
    {
     "name": "stdout",
     "output_type": "stream",
     "text": [
      "[jovian] Metrics logged.\u001b[0m\n"
     ]
    }
   ],
   "source": [
    "jovian.log_metrics(val_loss=val_loss)"
   ]
  },
  {
   "cell_type": "code",
   "execution_count": null,
   "metadata": {},
   "outputs": [
    {
     "data": {
      "application/javascript": [
       "window.require && require([\"base/js/namespace\"],function(Jupyter){Jupyter.notebook.save_checkpoint()})"
      ],
      "text/plain": [
       "<IPython.core.display.Javascript object>"
      ]
     },
     "metadata": {},
     "output_type": "display_data"
    },
    {
     "name": "stdout",
     "output_type": "stream",
     "text": [
      "[jovian] Attempting to save notebook..\u001b[0m\n"
     ]
    }
   ],
   "source": [
    "jovian.commit(project=project_name, environment=None)"
   ]
  },
  {
   "cell_type": "markdown",
   "metadata": {},
   "source": [
    "Now scroll back up, re-initialize the model, and try different set of values for batch size, number of epochs, learning rate etc. Commit each experiment and use the \"Compare\" and \"View Diff\" options on Jovian to compare the different results."
   ]
  },
  {
   "cell_type": "markdown",
   "metadata": {},
   "source": [
    "## Step 5: Make predictions using the trained model\n",
    "\n",
    "**Q: Complete the following function definition to make predictions on a single input**"
   ]
  },
  {
   "cell_type": "code",
   "execution_count": 173,
   "metadata": {},
   "outputs": [],
   "source": [
    "def predict_single(input, target, model):\n",
    "    inputs = input.unsqueeze(0)\n",
    "    predictions = model(inputs)                # fill this\n",
    "    prediction = predictions[0].detach()\n",
    "    print(\"Input:\", input)\n",
    "    print(\"Target:\", target)\n",
    "    print(\"Prediction:\", prediction)"
   ]
  },
  {
   "cell_type": "code",
   "execution_count": 179,
   "metadata": {},
   "outputs": [
    {
     "name": "stdout",
     "output_type": "stream",
     "text": [
      "Input: tensor([  36.0000,    0.0000,   29.4576,    0.0000,    0.0000, 5108.3745])\n",
      "Target: tensor([5108.3745])\n",
      "Prediction: tensor([4090.5913])\n"
     ]
    }
   ],
   "source": [
    "input, target = val_ds[0]\n",
    "predict_single(input, target, model)"
   ]
  },
  {
   "cell_type": "code",
   "execution_count": 175,
   "metadata": {},
   "outputs": [
    {
     "name": "stdout",
     "output_type": "stream",
     "text": [
      "Input: tensor([6.0000e+01, 1.0000e+00, 3.5739e+01, 3.0000e+00, 1.0000e+00, 4.4747e+04])\n",
      "Target: tensor([44746.6094])\n",
      "Prediction: tensor([36334.1797])\n"
     ]
    }
   ],
   "source": [
    "input, target = val_ds[10]\n",
    "predict_single(input, target, model)"
   ]
  },
  {
   "cell_type": "code",
   "execution_count": 176,
   "metadata": {},
   "outputs": [
    {
     "name": "stdout",
     "output_type": "stream",
     "text": [
      "Input: tensor([2.2000e+01, 1.0000e+00, 4.0584e+01, 0.0000e+00, 1.0000e+00, 3.4518e+04])\n",
      "Target: tensor([34518.0078])\n",
      "Prediction: tensor([28074.0059])\n"
     ]
    }
   ],
   "source": [
    "input, target = val_ds[23]\n",
    "predict_single(input, target, model)"
   ]
  },
  {
   "cell_type": "markdown",
   "metadata": {},
   "source": [
    "Are you happy with your model's predictions? Try to improve them further."
   ]
  },
  {
   "cell_type": "markdown",
   "metadata": {},
   "source": [
    "## (Optional) Step 6: Try another dataset & blog about it\n",
    "\n",
    "While this last step is optional for the submission of your assignment, we highly recommend that you do it. Try to clean up & replicate this notebook (or [this one](https://jovian.ml/aakashns/housing-linear-minimal), or [this one](https://jovian.ml/aakashns/mnist-logistic-minimal) ) for a different linear regression or logistic regression problem. This will help solidify your understanding, and give you a chance to differentiate the generic patters in machine learning from problem-specific details.\n",
    "\n",
    "Here are some sources to find good datasets:\n",
    "\n",
    "- https://lionbridge.ai/datasets/10-open-datasets-for-linear-regression/\n",
    "- https://www.kaggle.com/rtatman/datasets-for-regression-analysis\n",
    "- https://archive.ics.uci.edu/ml/datasets.php?format=&task=reg&att=&area=&numAtt=&numIns=&type=&sort=nameUp&view=table\n",
    "- https://people.sc.fsu.edu/~jburkardt/datasets/regression/regression.html\n",
    "- https://archive.ics.uci.edu/ml/datasets/wine+quality\n",
    "- https://pytorch.org/docs/stable/torchvision/datasets.html\n",
    "\n",
    "We also recommend that you write a blog about your approach to the problem. Here is a suggested structure for your post (feel free to experiment with it):\n",
    "\n",
    "- Interesting title & subtitle\n",
    "- Overview of what the blog covers (which dataset, linear regression or logistic regression, intro to PyTorch)\n",
    "- Downloading & exploring the data\n",
    "- Preparing the data for training\n",
    "- Creating a model using PyTorch\n",
    "- Training the model to fit the data\n",
    "- Your thoughts on how to experiment with different hyperparmeters to reduce loss\n",
    "- Making predictions using the model\n",
    "\n",
    "As with the previous assignment, you can [embed Juptyer notebook cells & outputs from Jovian](https://medium.com/jovianml/share-and-embed-jupyter-notebooks-online-with-jovian-ml-df709a03064e) into your blog. \n",
    "\n",
    "Don't forget to share your work on the forum: https://jovian.ml/forum/t/share-your-work-here-assignment-2/4931"
   ]
  },
  {
   "cell_type": "code",
   "execution_count": null,
   "metadata": {},
   "outputs": [],
   "source": [
    "jovian.commit(project=project_name, environment=None)\n",
    "jovian.commit(project=project_name, environment=None) # try again, kaggle fails sometimes"
   ]
  },
  {
   "cell_type": "code",
   "execution_count": null,
   "metadata": {},
   "outputs": [],
   "source": []
  }
 ],
 "metadata": {
  "kernelspec": {
   "display_name": "Python 3",
   "language": "python",
   "name": "python3"
  },
  "language_info": {
   "codemirror_mode": {
    "name": "ipython",
    "version": 3
   },
   "file_extension": ".py",
   "mimetype": "text/x-python",
   "name": "python",
   "nbconvert_exporter": "python",
   "pygments_lexer": "ipython3",
   "version": "3.6.4"
  }
 },
 "nbformat": 4,
 "nbformat_minor": 4
}
